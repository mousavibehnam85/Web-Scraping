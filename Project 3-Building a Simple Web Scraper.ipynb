{
 "cells": [
  {
   "cell_type": "code",
   "execution_count": 1,
   "id": "00f6418c-744c-474e-baf2-e6e59298988b",
   "metadata": {},
   "outputs": [],
   "source": [
    "######Building a Simple Web Scraper\n",
    "#\n",
    "#beautiful soup library\n",
    "import requests\n",
    "from bs4 import BeautifulSoup"
   ]
  },
  {
   "cell_type": "code",
   "execution_count": 2,
   "id": "5629965d-7442-4fea-995e-30b232c67c62",
   "metadata": {},
   "outputs": [],
   "source": [
    "#url of the website\n",
    "url = 'http://quotes.toscrape.com'"
   ]
  },
  {
   "cell_type": "code",
   "execution_count": 3,
   "id": "d6feb452-3f4c-4e23-b4db-e4a23fb8f236",
   "metadata": {},
   "outputs": [],
   "source": [
    "#send a get request to the website\n",
    "response=requests.get(url)"
   ]
  },
  {
   "cell_type": "code",
   "execution_count": 4,
   "id": "04878fe6-b853-4428-8d02-eec2981ef0b3",
   "metadata": {},
   "outputs": [],
   "source": [
    "#Sparse the HTML content of the page\n",
    "soup=BeautifulSoup(response.text,'html.parser')"
   ]
  },
  {
   "cell_type": "code",
   "execution_count": 5,
   "id": "0ea7fdc8-4bd3-46a8-b68a-0aa3320c4b46",
   "metadata": {},
   "outputs": [
    {
     "name": "stdout",
     "output_type": "stream",
     "text": [
      "“The world as we have created it is a process of our thinking. It cannot be changed without changing our thinking.” - Albert Einstein\n",
      "“It is our choices, Harry, that show what we truly are, far more than our abilities.” - J.K. Rowling\n",
      "“There are only two ways to live your life. One is as though nothing is a miracle. The other is as though everything is a miracle.” - Albert Einstein\n",
      "“The person, be it gentleman or lady, who has not pleasure in a good novel, must be intolerably stupid.” - Jane Austen\n",
      "“Imperfection is beauty, madness is genius and it's better to be absolutely ridiculous than absolutely boring.” - Marilyn Monroe\n",
      "“Try not to become a man of success. Rather become a man of value.” - Albert Einstein\n",
      "“It is better to be hated for what you are than to be loved for what you are not.” - André Gide\n",
      "“I have not failed. I've just found 10,000 ways that won't work.” - Thomas A. Edison\n",
      "“A woman is like a tea bag; you never know how strong it is until it's in hot water.” - Eleanor Roosevelt\n",
      "“A day without sunshine is like, you know, night.” - Steve Martin\n"
     ]
    }
   ],
   "source": [
    "#Extract quotes and authors\n",
    "quotes = soup.find_all('span', class_='text')\n",
    "authors = soup.find_all('small', class_='author')\n",
    "for quote, author in zip(quotes, authors):\n",
    "         print(f\"{quote.get_text()} - {author.get_text()}\")"
   ]
  },
  {
   "cell_type": "code",
   "execution_count": null,
   "id": "3ca3f271-7298-423d-a565-d73eb420a91c",
   "metadata": {},
   "outputs": [],
   "source": []
  }
 ],
 "metadata": {
  "kernelspec": {
   "display_name": "Python 3 (ipykernel)",
   "language": "python",
   "name": "python3"
  },
  "language_info": {
   "codemirror_mode": {
    "name": "ipython",
    "version": 3
   },
   "file_extension": ".py",
   "mimetype": "text/x-python",
   "name": "python",
   "nbconvert_exporter": "python",
   "pygments_lexer": "ipython3",
   "version": "3.12.0"
  }
 },
 "nbformat": 4,
 "nbformat_minor": 5
}
